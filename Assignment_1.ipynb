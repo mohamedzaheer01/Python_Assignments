def q1_is_palindrome(s):
    s = s.lower()
    if s == s[::-1]:
        return 'Its Palindrome'
    else:
        return 'Its not a Palindrome'

def q2_lists_to_dict(l1,l2):
    dictionary = {}
    for i in range(len(l1)):
        dictionary[l1[i]]=l2[i]
    print(dictionary) # This function already prints, so it won't return a value for the main print.

def q3_listVStuple():
    # Lists are like a shopping cart: you can add, remove, or change items after creation.
    my_list = [10, 20, 30]
    my_list[0] = 15 # You can change an item
    my_list.append(40) # You can add new items
    print(f"\n--- Q3: List vs Tuple ---")
    print(f"List Example (mutable): {my_list}")

    # Tuples are like a sealed container: once created, its contents cannot be changed.
    my_tuple = (10, 20, 30)
    print(f"Tuple Example (immutable): {my_tuple}")
    print("Attempting to change a tuple item (my_tuple[0] = 15) would cause an error.")


def q4_file_word_count():
    # --- Creating a dummy file for demonstration ---
    file_content = """
    This is the first line.
    Python is a great programming language.
    We are learning Python basics.
    Another line without the word.
    Python is fun!
    """
    with open('mydoc.txt', 'w') as f:
        f.write(file_content)

    file_name = 'mydoc.txt'
    count = 0
    try:
        with open(file_name, 'r') as f2:
            for line in f2:
                if 'python' in line.lower(): # Changed 'Python' to 'python' for case-insensitive match
                    count+=1
        print(f"\n--- Q4: File Word Count ---")
        print('The word "Python" appears in : ', count, 'lines.')

    except Exception as e:
        print('An unexpected error occured : ', e)

def q5_list_comprehending():
    print(f"\n--- Q5: List Comprehension ---")
    print('The list comprehension: squares = [x**2 for x in range(10) if x%2==0]')
    print('This will print out the values [0, 4, 16, 36, 64].')
    print('This happens by squaring only the even numbers (0, 2, 4, 6, 8) from 0 to 9, and skipping the odd numbers.')


if __name__ == '__main__':
    # --- Calling Q1: Palindrome Check ---
    print("--- Q1: Palindrome Check ---")
    string_to_check = input('Enter a string to check for palindrome: ')
    print(q1_is_palindrome(string_to_check))

    # --- Calling Q2: Lists to Dictionary ---
    print("\n--- Q2: Lists to Dictionary ---")
    # Prompting for keys and values for Q2
    keys_input = input('Enter Keys separated by space (e.g., a b c): ').split()
    values_input = list(map(int, input('Enter Values separated by space (e.g., 1 2 3): ').split()))
    # Call the function. Note: q2_lists_to_dict prints directly, so no 'print()' around the call.
    q2_lists_to_dict(keys_input, values_input)

    # --- Calling Q3: List vs Tuple Explanation ---
    q3_listVStuple()

    # --- Calling Q4: File Word Count ---
    q4_file_word_count()

    # --- Calling Q5: List Comprehension Explanation ---
    q5_list_comprehending()